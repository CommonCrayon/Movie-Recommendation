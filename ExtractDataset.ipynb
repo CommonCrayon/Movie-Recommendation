{
 "cells": [
  {
   "cell_type": "markdown",
   "metadata": {},
   "source": [
    "# Check if zip file in exists, then extract"
   ]
  },
  {
   "cell_type": "code",
   "execution_count": 10,
   "metadata": {},
   "outputs": [],
   "source": [
    "import os\n",
    "import zipfile\n",
    "\n",
    "def extract_zip_file(zip_file_path, extraction_path):\n",
    "    if os.path.exists(zip_file_path):\n",
    "        with zipfile.ZipFile(zip_file_path, 'r') as zip_ref:\n",
    "            zip_ref.extractall(extraction_path)\n",
    "        print(\"Extraction successful.\")\n",
    "    else:\n",
    "        print(\"Download from:\\n\" +\n",
    "              \"https://www.dropbox.com/s/ip7x5v26a5kvixg/ml-100k.zip?e=2&file_subpath=%2Fml-100k&dl=0 \\n\" +\n",
    "              \"https://www.dropbox.com/s/7a1rpq684c33nca/ml-20m.zip?e=2&file_subpath=%2Fml-20m&dl=0 \\n\"\n",
    "              )"
   ]
  },
  {
   "cell_type": "code",
   "execution_count": 11,
   "metadata": {},
   "outputs": [
    {
     "name": "stdout",
     "output_type": "stream",
     "text": [
      "Extraction successful.\n",
      "Extraction successful.\n"
     ]
    }
   ],
   "source": [
    "extract_zip_file('./dataset/ml-20m.zip', './dataset')\n",
    "extract_zip_file('./dataset/ml-100k.zip', './dataset')"
   ]
  },
  {
   "cell_type": "code",
   "execution_count": null,
   "metadata": {},
   "outputs": [],
   "source": []
  }
 ],
 "metadata": {
  "kernelspec": {
   "display_name": "Python 3",
   "language": "python",
   "name": "python3"
  },
  "language_info": {
   "codemirror_mode": {
    "name": "ipython",
    "version": 3
   },
   "file_extension": ".py",
   "mimetype": "text/x-python",
   "name": "python",
   "nbconvert_exporter": "python",
   "pygments_lexer": "ipython3",
   "version": "3.11.9"
  }
 },
 "nbformat": 4,
 "nbformat_minor": 2
}
